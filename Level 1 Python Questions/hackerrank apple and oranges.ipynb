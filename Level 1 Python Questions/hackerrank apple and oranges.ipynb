{
 "cells": [
  {
   "cell_type": "code",
   "execution_count": 7,
   "metadata": {},
   "outputs": [],
   "source": [
    "  def countApplesAndOranges(s, t, a, b, apples, oranges):\n",
    "    applecount=orangecount=0\n",
    "    for i in range(len(apples)):\n",
    "        if a+apples[i]>=s and a+apples[i]<=t:\n",
    "            applecount+=1\n",
    "    for i in range(len(oranges)):        \n",
    "        if b+oranges[i]>=s and b+oranges[i]<=t:\n",
    "            orangecount+=1\n",
    "    print(applecount)\n",
    "    print(orangecount) "
   ]
  },
  {
   "cell_type": "code",
   "execution_count": 6,
   "metadata": {},
   "outputs": [
    {
     "data": {
      "text/plain": [
       "1"
      ]
     },
     "execution_count": 6,
     "metadata": {},
     "output_type": "execute_result"
    }
   ],
   "source": []
  },
  {
   "cell_type": "code",
   "execution_count": null,
   "metadata": {},
   "outputs": [],
   "source": []
  }
 ],
 "metadata": {
  "kernelspec": {
   "display_name": "Python 3",
   "language": "python",
   "name": "python3"
  },
  "language_info": {
   "codemirror_mode": {
    "name": "ipython",
    "version": 3
   },
   "file_extension": ".py",
   "mimetype": "text/x-python",
   "name": "python",
   "nbconvert_exporter": "python",
   "pygments_lexer": "ipython3",
   "version": "3.7.3"
  }
 },
 "nbformat": 4,
 "nbformat_minor": 2
}
