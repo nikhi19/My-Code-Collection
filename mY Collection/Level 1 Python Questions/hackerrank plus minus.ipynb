{
 "cells": [
  {
   "cell_type": "code",
   "execution_count": 8,
   "metadata": {},
   "outputs": [],
   "source": [
    "def plusminus(arr):\n",
    "    pos=neg=zero=0\n",
    "    n=len(arr)\n",
    "    for i in range(n):\n",
    "        if arr[i]>0:\n",
    "            pos+=1\n",
    "        elif arr[i]<0:\n",
    "            neg+=1\n",
    "        else:\n",
    "            zero+=1\n",
    "    print(pos/n)\n",
    "    print(neg/n)\n",
    "    print(zero/n)"
   ]
  },
  {
   "cell_type": "code",
   "execution_count": 9,
   "metadata": {},
   "outputs": [
    {
     "name": "stdout",
     "output_type": "stream",
     "text": [
      "0.3333333333333333\n",
      "0.3333333333333333\n",
      "0.3333333333333333\n"
     ]
    }
   ],
   "source": [
    "arr=[1,1,0,0,-1,-1]\n",
    "result=plusminus(arr)"
   ]
  },
  {
   "cell_type": "code",
   "execution_count": null,
   "metadata": {},
   "outputs": [],
   "source": []
  }
 ],
 "metadata": {
  "kernelspec": {
   "display_name": "Python 3",
   "language": "python",
   "name": "python3"
  },
  "language_info": {
   "codemirror_mode": {
    "name": "ipython",
    "version": 3
   },
   "file_extension": ".py",
   "mimetype": "text/x-python",
   "name": "python",
   "nbconvert_exporter": "python",
   "pygments_lexer": "ipython3",
   "version": "3.7.3"
  }
 },
 "nbformat": 4,
 "nbformat_minor": 2
}
