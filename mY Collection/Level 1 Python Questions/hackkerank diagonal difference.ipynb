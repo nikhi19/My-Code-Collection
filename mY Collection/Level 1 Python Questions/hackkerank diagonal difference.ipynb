{
 "cells": [
  {
   "cell_type": "code",
   "execution_count": 1,
   "metadata": {},
   "outputs": [],
   "source": [
    "def diagdiff(arr):\n",
    "    leftdiag=rightdiag=0\n",
    "    for i in range(n):\n",
    "        leftdiag+=arr[i][i]\n",
    "        rightdiag+=arr[i][n-1-i]\n",
    "    return abs(leftdiag-rightdiag)    "
   ]
  },
  {
   "cell_type": "code",
   "execution_count": null,
   "metadata": {},
   "outputs": [],
   "source": []
  }
 ],
 "metadata": {
  "kernelspec": {
   "display_name": "Python 3",
   "language": "python",
   "name": "python3"
  },
  "language_info": {
   "codemirror_mode": {
    "name": "ipython",
    "version": 3
   },
   "file_extension": ".py",
   "mimetype": "text/x-python",
   "name": "python",
   "nbconvert_exporter": "python",
   "pygments_lexer": "ipython3",
   "version": "3.7.3"
  }
 },
 "nbformat": 4,
 "nbformat_minor": 2
}
